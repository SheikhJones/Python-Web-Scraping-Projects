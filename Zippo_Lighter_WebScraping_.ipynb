{
  "cells": [
    {
      "cell_type": "markdown",
      "metadata": {
        "id": "view-in-github",
        "colab_type": "text"
      },
      "source": [
        "<a href=\"https://colab.research.google.com/github/SheikhJones/Python-Web-Scraping-Projects/blob/main/Zippo_Lighter_WebScraping_.ipynb\" target=\"_parent\"><img src=\"https://colab.research.google.com/assets/colab-badge.svg\" alt=\"Open In Colab\"/></a>"
      ]
    },
    {
      "cell_type": "code",
      "execution_count": null,
      "id": "9ba85b0f",
      "metadata": {
        "colab": {
          "base_uri": "https://localhost:8080/"
        },
        "id": "9ba85b0f",
        "outputId": "f11c8964-3df3-4b4d-8b5a-577487e7359d"
      },
      "outputs": [
        {
          "output_type": "stream",
          "name": "stdout",
          "text": [
            "Collecting autoscraper\n",
            "  Downloading autoscraper-1.1.14-py3-none-any.whl (10 kB)\n",
            "Requirement already satisfied: requests in /usr/local/lib/python3.10/dist-packages (from autoscraper) (2.31.0)\n",
            "Collecting bs4 (from autoscraper)\n",
            "  Downloading bs4-0.0.2-py2.py3-none-any.whl (1.2 kB)\n",
            "Requirement already satisfied: lxml in /usr/local/lib/python3.10/dist-packages (from autoscraper) (4.9.4)\n",
            "Requirement already satisfied: beautifulsoup4 in /usr/local/lib/python3.10/dist-packages (from bs4->autoscraper) (4.12.3)\n",
            "Requirement already satisfied: charset-normalizer<4,>=2 in /usr/local/lib/python3.10/dist-packages (from requests->autoscraper) (3.3.2)\n",
            "Requirement already satisfied: idna<4,>=2.5 in /usr/local/lib/python3.10/dist-packages (from requests->autoscraper) (3.6)\n",
            "Requirement already satisfied: urllib3<3,>=1.21.1 in /usr/local/lib/python3.10/dist-packages (from requests->autoscraper) (2.0.7)\n",
            "Requirement already satisfied: certifi>=2017.4.17 in /usr/local/lib/python3.10/dist-packages (from requests->autoscraper) (2024.2.2)\n",
            "Requirement already satisfied: soupsieve>1.2 in /usr/local/lib/python3.10/dist-packages (from beautifulsoup4->bs4->autoscraper) (2.5)\n",
            "Installing collected packages: bs4, autoscraper\n",
            "Successfully installed autoscraper-1.1.14 bs4-0.0.2\n"
          ]
        }
      ],
      "source": [
        "!pip install autoscraper"
      ]
    },
    {
      "cell_type": "code",
      "execution_count": null,
      "id": "c32a7625",
      "metadata": {
        "id": "c32a7625"
      },
      "outputs": [],
      "source": [
        "from autoscraper import AutoScraper"
      ]
    },
    {
      "cell_type": "code",
      "execution_count": null,
      "id": "f1492bd8",
      "metadata": {
        "id": "f1492bd8"
      },
      "outputs": [],
      "source": [
        "amazon_url=\"https://www.amazon.in/s?k=zippo+lighter&crid=JXS9XTBSEYAW&sprefix=zippo+lighte%2Caps%2C223&ref=nb_sb_noss_2\"\n",
        "\n",
        "wanted_list=[\"₹361\",\"Zippo Lighter Fluid 125Ml( Black)\"]"
      ]
    },
    {
      "cell_type": "code",
      "execution_count": null,
      "id": "11cc44b8",
      "metadata": {
        "colab": {
          "base_uri": "https://localhost:8080/"
        },
        "id": "11cc44b8",
        "outputId": "91e89266-6358-4fa4-d8a3-7d636ecacfe1"
      },
      "outputs": [
        {
          "output_type": "stream",
          "name": "stdout",
          "text": [
            "['₹2,659.05', '₹3,371.55', '₹189.05', '₹3,609.05', '₹2,896.55', '₹3,799.05', '₹2,421', '₹1,946.55', '₹1,994.05', '₹2,326.55', '₹4,464.05', '₹2,944.05', '₹361', '₹2,136.55', '₹2,421.55', '₹17,954.05', '₹349', '₹379', '₹4,226.55', '₹2,849.05', '₹2,469.05', '₹4,036.55', '₹3,479', '₹891', '₹2,564.05', '₹3,276.55', '₹4,131.55', '₹2,706.55', '₹5,034.05', '₹3,181.55', '₹426.55', '₹3,894.05', '₹3,989.05', '₹4,462.14', '₹3,997.14', 'Zippo Viking Warrior Design Street Chrome Pocket Lighter', 'Zippo and Pattern Design High Polish Brass Pocket Lighter', 'Zippo Kimono Design Windproof Pocket Lighter', 'Zippo Zippo Wick 2425 Windproof Lighter, Black', 'Zippo Classic Multi Color Pocket Lighter', 'Zippo Knight Fight Design Windproof Pocket Lighter', 'Zippo James Bond 007 Design Pocket Lighter Windproof Stylish Premium Metal Body Eco Environment-Friendly Unique Stylish Travel Friendly', 'Zippo Eye of Providence Design Multi Color Pocket Lighter', 'Zippo Classic Black Matte Pocket Lighter', \"Zippo Shiva's Trishul White Matte Pocket Lighter\", 'Zippo Classic Satin Chrome - Blister Windproof Pocket Lighter', 'Zippo Slim Brushed Chrome Pocket Lighter', 'Zippo Black Cat Design Windproof Pocket Lighter', 'Zippo Timberwolves Brushed Chrome Pocket Lighter', 'Zippo Lion Design Windproof Pocket Lighter', 'Zippo Lighter Fluid 125Ml( Black)', 'Zippo Butane Lighter Insert- Yellow Flame', 'Zippo Marble Pattern Design Windproof Pocket Lighter', 'Zippo St. Benedict Design Windproof Pocket Lighter', 'Zippo Tree of Life Pocket Lighter', 'Zippo Vintage Brushed Chrome without Slashes Pocket Lighter', 'Zebra (Golden) Genuine Lighter Flint Stone (Pack of 50 Pieces) I Suitable to All Zippo, Earth, Kerosene, Petrol, Fuel and Gas Fluid Grinding Wheel Pocket Lighters Accessories', 'Zippo Taurus Zodiac Sign Matte Pocket Lighter , Black', 'Hetkrishi Eagle Cigarette Windproof Pocket Lighter (Golden)', 'Zippo Deer Black Ice Design Pocket Lighter Windproof Stylish Metal Body Eco Environment-Friendly Unique Stylish Travel Friendly', 'Zippo Red Skull Design Windproof Pocket Lighter', 'Zippo Line Pocket Lighter', 'Zippo Day of The Dead: Girl Windproof Pocket Lighter', 'Zippo Harley-Davidson Logo Black Matte Design Pocket Lighter Stylish Look Premium Metal Body Eco Environment-Friendly Unique Stylish Design Travel Friendly', 'Zippo Classic Navy Matte Zippo Logo Pocket Lighter(Fuel Free)', 'BEBO CREATIONS Dual Arc Plasma Lighter - Outdoor Camping Lighter for Men Women with Led Light, Lighting Modes COB Lamp, Type-C Rechargeable Electric Windproof E Lighter', 'Zippo Classic Flat Turquoise Zippo Logo Design Pocket Lighter Windproof Stylish Premium Metal Body Eco Environment-Friendly Unique Stylish Travel Friendly', 'Zippo Design Windproof Pocket Lighter', 'Zippo Classic Candy Apple Red Design Pocket Lighter Windproof Stylish Premium Metal Body Eco Environment-Friendly Unique Stylish Travel Friendly', 'Zippo Bholenath White Matte Pocket Lighter', 'Zippo Cyberpunk Dragon Design Windproof Pocket Lighter', 'Zippo Multi Color Skull Design Pocket Lighter Windproof Stylish Look Premium Metal Body Eco Environment-Friendly Unique Stylish Travel Friendly', 'Zippo Zippo I Spy Pocket Lighter', 'Zippo Gory Skull Design Pocket Lighter Windproof Stylish Premium Metal Body Eco Environment-Friendly Unique Stylish Travel Friendly', 'Zippo Black Crackle Pocket Lighter', 'Zippo Anarchy Symbol Black Matte Pocket Lighter', 'Zippo Tiles Emblem Design Pocket Lighter Windproof Stylish Look Premium Metal Body Eco Environment-Friendly Unique Stylish Travel Friendly', 'Zippo Simple Spade Design Pocket Lighter', 'Zippo Classic Iron Stone Pocket Lighter', 'Zippo Butane Fuel, 42gm', 'Zippo Classic Street Chrome Pocket Lighter', 'Zippo Classic Glow In The Dark Zippo Logo Pocket Lighter, White', 'Zippo James Bond 007 Design Pocket Lighter Windproof Stylish Premium Metal Body Eco Environment-Friendly Unique Stylish Tr...', 'Zebra (Golden) Genuine Lighter Flint Stone (Pack of 50 Pieces) I Suitable to All Zippo, Earth, Kerosene, Petrol, Fuel and ...', 'Zippo Deer Black Ice Design Pocket Lighter Windproof Stylish Metal Body Eco Environment-Friendly Unique Stylish Travel Fri...', 'Zippo Harley-Davidson Logo Black Matte Design Pocket Lighter Stylish Look Premium Metal Body Eco Environment-Friendly Uniq...', 'BEBO CREATIONS Dual Arc Plasma Lighter - Outdoor Camping Lighter for Men Women with Led Light, Lighting Modes COB Lamp, Ty...', 'Zippo Classic Flat Turquoise Zippo Logo Design Pocket Lighter Windproof Stylish Premium Metal Body Eco Environment-Friendl...', 'Zippo Classic Candy Apple Red Design Pocket Lighter Windproof Stylish Premium Metal Body Eco Environment-Friendly Unique S...', 'Zippo Multi Color Skull Design Pocket Lighter Windproof Stylish Look Premium Metal Body Eco Environment-Friendly Unique St...', 'Zippo Gory Skull Design Pocket Lighter Windproof Stylish Premium Metal Body Eco Environment-Friendly Unique Stylish Travel...', 'Zippo Tiles Emblem Design Pocket Lighter Windproof Stylish Look Premium Metal Body Eco Environment-Friendly Unique Stylish...', 'Zippo Black Ice 1941 Replica Pocket Lighter', 'Zippo MutiColor Zippo Logo Pocket Lighter', 'Zippo Classic Black Ice Pocket Lighter', 'Combo of Zippo Doom Windproof Pocket Lighter and 12 oz. Premium Lighter Fluid', \"Combo of Zippo Jack Daniel's Street Chrome Windproof Pocket Lighter and 12 oz. Premium Lighter Fluid\"]\n"
          ]
        }
      ],
      "source": [
        "scraper=AutoScraper()\n",
        "result=scraper.build(amazon_url,wanted_list)\n",
        "print(result)"
      ]
    },
    {
      "cell_type": "code",
      "source": [
        "scraper.get_result_similar(amazon_url,grouped=True)"
      ],
      "metadata": {
        "colab": {
          "base_uri": "https://localhost:8080/"
        },
        "id": "fcqgF6_S6alt",
        "outputId": "22d9abf4-104f-441a-e49b-fc52540664dc"
      },
      "id": "fcqgF6_S6alt",
      "execution_count": null,
      "outputs": [
        {
          "output_type": "execute_result",
          "data": {
            "text/plain": [
              "{'rule_k8p0': ['₹25,459.05',\n",
              "  '₹2,659.05',\n",
              "  '₹3,371.55',\n",
              "  '₹2,564.05',\n",
              "  '₹3,371.55',\n",
              "  '₹189.05',\n",
              "  '₹3,609.05',\n",
              "  '₹2,896.55',\n",
              "  '₹3,371.55',\n",
              "  '₹3,799.05',\n",
              "  '₹3,609.05',\n",
              "  '₹2,421',\n",
              "  '₹2,421.55',\n",
              "  '₹2,421.55',\n",
              "  '₹4,416.55',\n",
              "  '₹2,849.05',\n",
              "  '₹2,896.55',\n",
              "  '₹3,276.55',\n",
              "  '₹4,131.55',\n",
              "  '₹1,946.55',\n",
              "  '₹3,181.55',\n",
              "  '₹1,994.05',\n",
              "  '₹2,326.55',\n",
              "  '₹1,899.05',\n",
              "  '₹2,944.05',\n",
              "  '₹2,944.05',\n",
              "  '₹361',\n",
              "  '₹2,944.05',\n",
              "  '₹2,896.55',\n",
              "  '₹1,804.05',\n",
              "  '₹17,954.05',\n",
              "  '₹349',\n",
              "  '₹3,181.55',\n",
              "  '₹379',\n",
              "  '₹3,181.55',\n",
              "  '₹3,276.55',\n",
              "  '₹2,849.05',\n",
              "  '₹2,754.05',\n",
              "  '₹2,944.05',\n",
              "  '₹2,469.05',\n",
              "  '₹3,514.05',\n",
              "  '₹891',\n",
              "  '₹3,276.55',\n",
              "  '₹2,944.05',\n",
              "  '₹2,326.55',\n",
              "  '₹2,896.55',\n",
              "  '₹42,939.05'],\n",
              " 'rule_xckm': ['₹25,459.05',\n",
              "  '₹2,659.05',\n",
              "  '₹3,371.55',\n",
              "  '₹2,564.05',\n",
              "  '₹3,371.55',\n",
              "  '₹189.05',\n",
              "  '₹3,609.05',\n",
              "  '₹2,896.55',\n",
              "  '₹3,371.55',\n",
              "  '₹3,799.05',\n",
              "  '₹3,609.05',\n",
              "  '₹2,421',\n",
              "  '₹2,421.55',\n",
              "  '₹2,421.55',\n",
              "  '₹4,416.55',\n",
              "  '₹2,849.05',\n",
              "  '₹2,896.55',\n",
              "  '₹3,276.55',\n",
              "  '₹4,131.55',\n",
              "  '₹1,946.55',\n",
              "  '₹3,181.55',\n",
              "  '₹1,994.05',\n",
              "  '₹2,326.55',\n",
              "  '₹1,899.05',\n",
              "  '₹2,944.05',\n",
              "  '₹2,944.05',\n",
              "  '₹361',\n",
              "  '₹2,944.05',\n",
              "  '₹2,896.55',\n",
              "  '₹1,804.05',\n",
              "  '₹17,954.05',\n",
              "  '₹349',\n",
              "  '₹3,181.55',\n",
              "  '₹379',\n",
              "  '₹3,181.55',\n",
              "  '₹3,276.55',\n",
              "  '₹2,849.05',\n",
              "  '₹2,754.05',\n",
              "  '₹2,944.05',\n",
              "  '₹2,469.05',\n",
              "  '₹3,514.05',\n",
              "  '₹891',\n",
              "  '₹3,276.55',\n",
              "  '₹2,944.05',\n",
              "  '₹2,326.55',\n",
              "  '₹2,896.55',\n",
              "  '₹42,939.05'],\n",
              " 'rule_3qty': ['₹361',\n",
              "  '₹2,421.55',\n",
              "  '₹3,894.05',\n",
              "  '₹3,989.05',\n",
              "  '₹3,181.55',\n",
              "  '₹4,462.14',\n",
              "  '₹3,997.14'],\n",
              " 'rule_y0a5': ['₹361',\n",
              "  '₹2,421.55',\n",
              "  '₹3,894.05',\n",
              "  '₹3,989.05',\n",
              "  '₹3,181.55',\n",
              "  '₹4,462.14',\n",
              "  '₹3,997.14'],\n",
              " 'rule_2uj2': ['Zippo Asian Dragon Windproof Pocket Lighter',\n",
              "  'Zippo Viking Warrior Design Street Chrome Pocket Lighter',\n",
              "  'Zippo and Pattern Design High Polish Brass Pocket Lighter',\n",
              "  'Zippo Classic Candy Apple Red Design Pocket Lighter Windproof Stylish Premium Metal Body Eco Environment-Friendly Unique Stylish Travel Friendly',\n",
              "  'Zippo Kimono Design Windproof Pocket Lighter',\n",
              "  'Zippo Zippo Wick 2425 Windproof Lighter, Black',\n",
              "  'Zippo Classic Multi Color Pocket Lighter',\n",
              "  'Zippo Knight Fight Design Windproof Pocket Lighter',\n",
              "  'Zippo James Bond 007 Design Pocket Lighter Windproof Stylish Premium Metal Body Eco Environment-Friendly Unique Stylish Travel Friendly',\n",
              "  'Zippo Eye of Providence Design Multi Color Pocket Lighter',\n",
              "  'Zippo Classic Glow In The Dark Zippo Logo Pocket Lighter, White',\n",
              "  'Zippo Classic Black Matte Pocket Lighter',\n",
              "  'Zippo Classic Iron Stone Pocket Lighter',\n",
              "  'Zippo Black Crackle Pocket Lighter',\n",
              "  'Zippo 1935 Replica Brushed Chrome without Slashes Pocket Lighter',\n",
              "  'Zippo Yin Yang 2 Black Matte Design Pocket Lighter Windproof Stylish Premium Metal Body Eco Environment-Friendly Unique Stylish Travel Friendly',\n",
              "  \"Zippo Shiva's Trishul White Matte Pocket Lighter\",\n",
              "  'Zippo Bholenath White Matte Pocket Lighter',\n",
              "  'Zippo Zippo I Spy Pocket Lighter',\n",
              "  'Zippo Classic Satin Chrome - Blister Windproof Pocket Lighter',\n",
              "  'Zippo Asian Tiger Design Brushed Chrome Design Pocket Lighter Windproof Stylish Premium Metal Body Eco Environment-Friendly Unique Stylish Travel Friendly',\n",
              "  'Zippo Slim Brushed Chrome Pocket Lighter',\n",
              "  'Zippo Black Cat Design Windproof Pocket Lighter',\n",
              "  'Zippo Slim Street Chrome Pocket Lighter',\n",
              "  'Zippo Anarchy Symbol Black Matte Pocket Lighter',\n",
              "  'Zippo Lion Design Windproof Pocket Lighter',\n",
              "  'Zippo Lighter Fluid 125Ml( Black)',\n",
              "  'Zippo Black Matte with Zippo Logo Pocket Lighter',\n",
              "  'Zippo Marble Pattern Design Windproof Pocket Lighter',\n",
              "  'Zippo Single Torch Butane Lighter Insert',\n",
              "  'Zippo St. Benedict Design Windproof Pocket Lighter',\n",
              "  'Zebra (Golden) Genuine Lighter Flint Stone (Pack of 50 Pieces) I Suitable to All Zippo, Earth, Kerosene, Petrol, Fuel and Gas Fluid Grinding Wheel Pocket Lighters Accessories',\n",
              "  'Zippo Classic Black Ice Pocket Lighter',\n",
              "  'Hetkrishi Eagle Cigarette Windproof Pocket Lighter (Golden)',\n",
              "  'Zippo Vintage Brushed Brass with Slashes Pocket Lighter',\n",
              "  'Zippo Classic Street Chrome Pocket Lighter',\n",
              "  'Zippo Multi Color Skull Design Pocket Lighter Windproof Stylish Look Premium Metal Body Eco Environment-Friendly Unique Stylish Travel Friendly',\n",
              "  'Zippo Classic Flat Turquoise Zippo Logo Design Pocket Lighter Windproof Stylish Premium Metal Body Eco Environment-Friendly Unique Stylish Travel Friendly',\n",
              "  'Zippo Silver Coating Gold Logo Design Pocket Lighter Stylish Look Premium Metal Body Eco Environment-Friendly Unique Stylish Design Travel Friendly',\n",
              "  'Zippo Multicolor Plague Doctor Mask Design Pocket Lighter Windproof Stylish Premium Metal Body Eco Environment-Friendly Unique Stylish Travel Friendly',\n",
              "  'Zippo Skull Design Windproof Pocket Lighter',\n",
              "  'Zippo Black Crackle 1941 Replica Pocket Lighter',\n",
              "  'BEBO CREATIONS Dual Arc Plasma Lighter - Outdoor Camping Lighter for Men Women with Led Light, Lighting Modes COB Lamp, Type-C Rechargeable Electric Windproof E Lighter',\n",
              "  \"Zippo Jack Daniel's Tennessee Whiskey Label Street Chrome Pocket Lighter\",\n",
              "  'Zippo Classic Glow In The Dark Design Pocket Lighter Windproof Metal Body Eco Environment-Friendly , Silver',\n",
              "  'Zippo Windy Design Windproof Pocket Lighter',\n",
              "  'Zippo Aries Zodiac Sign Matte Pocket Lighter , Black',\n",
              "  'Zippo Armor High Polish Sterling Silver Pocket Lighter'],\n",
              " 'rule_n4gi': ['Zippo Asian Dragon Windproof Pocket Lighter',\n",
              "  'Zippo Viking Warrior Design Street Chrome Pocket Lighter',\n",
              "  'Zippo and Pattern Design High Polish Brass Pocket Lighter',\n",
              "  'Zippo Classic Candy Apple Red Design Pocket Lighter Windproof Stylish Premium Metal Body Eco Environment-Friendly Unique S...',\n",
              "  'Zippo Kimono Design Windproof Pocket Lighter',\n",
              "  'Zippo Zippo Wick 2425 Windproof Lighter, Black',\n",
              "  'Zippo Classic Multi Color Pocket Lighter',\n",
              "  'Zippo Knight Fight Design Windproof Pocket Lighter',\n",
              "  'Zippo James Bond 007 Design Pocket Lighter Windproof Stylish Premium Metal Body Eco Environment-Friendly Unique Stylish Tr...',\n",
              "  'Zippo Eye of Providence Design Multi Color Pocket Lighter',\n",
              "  'Zippo Classic Glow In The Dark Zippo Logo Pocket Lighter, White',\n",
              "  'Zippo Classic Black Matte Pocket Lighter',\n",
              "  'Zippo Classic Iron Stone Pocket Lighter',\n",
              "  'Zippo Black Crackle Pocket Lighter',\n",
              "  'Zippo 1935 Replica Brushed Chrome without Slashes Pocket Lighter',\n",
              "  'Zippo Yin Yang 2 Black Matte Design Pocket Lighter Windproof Stylish Premium Metal Body Eco Environment-Friendly Unique St...',\n",
              "  \"Zippo Shiva's Trishul White Matte Pocket Lighter\",\n",
              "  'Zippo Bholenath White Matte Pocket Lighter',\n",
              "  'Zippo Zippo I Spy Pocket Lighter',\n",
              "  'Zippo Classic Satin Chrome - Blister Windproof Pocket Lighter',\n",
              "  'Zippo Asian Tiger Design Brushed Chrome Design Pocket Lighter Windproof Stylish Premium Metal Body Eco Environment-Friendl...',\n",
              "  'Zippo Slim Brushed Chrome Pocket Lighter',\n",
              "  'Zippo Black Cat Design Windproof Pocket Lighter',\n",
              "  'Zippo Slim Street Chrome Pocket Lighter',\n",
              "  'Zippo Anarchy Symbol Black Matte Pocket Lighter',\n",
              "  'Zippo Lion Design Windproof Pocket Lighter',\n",
              "  'Zippo Lighter Fluid 125Ml( Black)',\n",
              "  'Zippo Black Matte with Zippo Logo Pocket Lighter',\n",
              "  'Zippo Marble Pattern Design Windproof Pocket Lighter',\n",
              "  'Zippo Single Torch Butane Lighter Insert',\n",
              "  'Zippo St. Benedict Design Windproof Pocket Lighter',\n",
              "  'Zebra (Golden) Genuine Lighter Flint Stone (Pack of 50 Pieces) I Suitable to All Zippo, Earth, Kerosene, Petrol, Fuel and ...',\n",
              "  'Zippo Classic Black Ice Pocket Lighter',\n",
              "  'Hetkrishi Eagle Cigarette Windproof Pocket Lighter (Golden)',\n",
              "  'Zippo Vintage Brushed Brass with Slashes Pocket Lighter',\n",
              "  'Zippo Classic Street Chrome Pocket Lighter',\n",
              "  'Zippo Multi Color Skull Design Pocket Lighter Windproof Stylish Look Premium Metal Body Eco Environment-Friendly Unique St...',\n",
              "  'Zippo Classic Flat Turquoise Zippo Logo Design Pocket Lighter Windproof Stylish Premium Metal Body Eco Environment-Friendl...',\n",
              "  'Zippo Silver Coating Gold Logo Design Pocket Lighter Stylish Look Premium Metal Body Eco Environment-Friendly Unique Styli...',\n",
              "  'Zippo Multicolor Plague Doctor Mask Design Pocket Lighter Windproof Stylish Premium Metal Body Eco Environment-Friendly Un...',\n",
              "  'Zippo Skull Design Windproof Pocket Lighter',\n",
              "  'Zippo Black Crackle 1941 Replica Pocket Lighter',\n",
              "  'BEBO CREATIONS Dual Arc Plasma Lighter - Outdoor Camping Lighter for Men Women with Led Light, Lighting Modes COB Lamp, Ty...',\n",
              "  \"Zippo Jack Daniel's Tennessee Whiskey Label Street Chrome Pocket Lighter\",\n",
              "  'Zippo Classic Glow In The Dark Design Pocket Lighter Windproof Metal Body Eco Environment-Friendly , Silver',\n",
              "  'Zippo Windy Design Windproof Pocket Lighter',\n",
              "  'Zippo Aries Zodiac Sign Matte Pocket Lighter , Black',\n",
              "  'Zippo Armor High Polish Sterling Silver Pocket Lighter'],\n",
              " 'rule_2r9x': ['Zippo Lighter Fluid 125Ml( Black)',\n",
              "  'Zippo Black Crackle Pocket Lighter',\n",
              "  'Zippo Black Ice 1941 Replica Pocket Lighter',\n",
              "  'Zippo MutiColor Zippo Logo Pocket Lighter',\n",
              "  'Zippo Classic Black Ice Pocket Lighter',\n",
              "  'Combo of Zippo Doom Windproof Pocket Lighter and 12 oz. Premium Lighter Fluid',\n",
              "  \"Combo of Zippo Jack Daniel's Street Chrome Windproof Pocket Lighter and 12 oz. Premium Lighter Fluid\"],\n",
              " 'rule_o6z1': ['Zippo Lighter Fluid 125Ml( Black)',\n",
              "  'Zippo Black Crackle Pocket Lighter',\n",
              "  'Zippo Black Ice 1941 Replica Pocket Lighter',\n",
              "  'Zippo MutiColor Zippo Logo Pocket Lighter',\n",
              "  'Zippo Classic Black Ice Pocket Lighter',\n",
              "  'Combo of Zippo Doom Windproof Pocket Lighter and 12 oz. Premium Lighter Fluid',\n",
              "  \"Combo of Zippo Jack Daniel's Street Chrome Windproof Pocket Lighter and 12 oz. Premium Lighter Fluid\"]}"
            ]
          },
          "metadata": {},
          "execution_count": 62
        }
      ]
    },
    {
      "cell_type": "code",
      "execution_count": null,
      "id": "3b1d93c4",
      "metadata": {
        "id": "3b1d93c4"
      },
      "outputs": [],
      "source": [
        "scraper.set_rule_aliases({'rule_2uj2':'Title','rule_k8p0':'Price'})\n",
        "scraper.keep_rules(['rule_2uj2','rule_k8p0'])\n",
        "scraper.save('amazon-search')"
      ]
    },
    {
      "cell_type": "code",
      "execution_count": null,
      "id": "e9f46ecb",
      "metadata": {
        "colab": {
          "base_uri": "https://localhost:8080/"
        },
        "id": "e9f46ecb",
        "outputId": "11bd5489-0f13-4bf5-ff28-4e49cb47a89e"
      },
      "outputs": [
        {
          "output_type": "execute_result",
          "data": {
            "text/plain": [
              "{'Price': ['₹2,732.97',\n",
              "  '₹15,870',\n",
              "  '₹873',\n",
              "  '₹2,159',\n",
              "  '₹3,439',\n",
              "  '₹699',\n",
              "  '₹1,999',\n",
              "  '₹15,895',\n",
              "  '₹680',\n",
              "  '₹699',\n",
              "  '₹699',\n",
              "  '₹2,159',\n",
              "  '₹743',\n",
              "  '₹2,399',\n",
              "  '₹499',\n",
              "  '₹1,669',\n",
              "  '₹3,219',\n",
              "  '₹720',\n",
              "  '₹2,494',\n",
              "  '₹3,253',\n",
              "  '₹3,199',\n",
              "  '₹2,879',\n",
              "  '₹3,199',\n",
              "  '₹3,199',\n",
              "  '₹3,219',\n",
              "  '₹2,159',\n",
              "  '₹699',\n",
              "  '₹699',\n",
              "  '₹1,068.65',\n",
              "  '₹873',\n",
              "  '₹6,237',\n",
              "  '₹1,609',\n",
              "  '₹1,609',\n",
              "  '₹1,449',\n",
              "  '₹700',\n",
              "  '₹982',\n",
              "  '₹3,499',\n",
              "  '₹2,494',\n",
              "  '₹549',\n",
              "  '₹999',\n",
              "  '₹1,874',\n",
              "  '₹2,351',\n",
              "  '₹3,199',\n",
              "  '₹2,299',\n",
              "  '₹3,499',\n",
              "  '₹3,796',\n",
              "  '₹1,079'],\n",
              " 'Title': ['willwinElastic Thigh High Garter Suspenders Jeans Pant Boot Leg Clamps Straps Clips Holder Ryder Stirrups Fully Adjustable Harley Davidson Pants Clip Holders Motorcycle Shoes Boots Pants Clip 4 pcs, Black, black',\n",
              "  'Takuey2019 Men Motorcycle Riding Jeans Armor Racing Cycling Pants with Upgrade Knee Hip Protector Pads',\n",
              "  \"American EagleMen's Slim Jeans (WEC0116620081_Black_32\",\n",
              "  'Takuey2019 Men Motorcycle Riding Jeans Armor Racing Cycling Pants with Upgrade Knee Hip Protector Pads (Black, XL=34)',\n",
              "  '+11',\n",
              "  \"American EagleMen's Skinny Jeans (WEC0116658540_Blue\",\n",
              "  \"American EagleMen's Skinny Jeans (WEC0116467443_Blue\",\n",
              "  \"American EagleMen's Skinny Jeans (WEC0116467443_Blue\",\n",
              "  \"American EagleMen's Skinny Jeans (WEC0116467443_Blue\",\n",
              "  \"American EagleMen's Skinny Jeans (WEC0116658540_Blue\",\n",
              "  '+6',\n",
              "  \"Milwaukee LeatherMilwaukee Performance 6 1/ Men's Bikers Edge Denim Sleeveless Shirt (Light Blue, Large)\",\n",
              "  '+7',\n",
              "  '+7',\n",
              "  \"American EagleMen's Slim Jeans (WEC0116254914_Blue_30)\",\n",
              "  '+5',\n",
              "  \"American EagleMen's Skinny Jeans (WEC0115998857_Blue_34)\"]}"
            ]
          },
          "metadata": {},
          "execution_count": 65
        }
      ],
      "source": [
        "scraper.get_result_similar('https://www.amazon.in/s?k=harley+davidson+jeans',group_by_alias=True)"
      ]
    },
    {
      "cell_type": "code",
      "execution_count": null,
      "id": "3ebf5d72",
      "metadata": {
        "id": "3ebf5d72"
      },
      "outputs": [],
      "source": []
    },
    {
      "cell_type": "code",
      "execution_count": null,
      "id": "d3c79518",
      "metadata": {
        "id": "d3c79518"
      },
      "outputs": [],
      "source": []
    },
    {
      "cell_type": "code",
      "execution_count": null,
      "id": "ca60befe",
      "metadata": {
        "id": "ca60befe"
      },
      "outputs": [],
      "source": []
    },
    {
      "cell_type": "code",
      "execution_count": null,
      "id": "b61b880a",
      "metadata": {
        "id": "b61b880a"
      },
      "outputs": [],
      "source": []
    }
  ],
  "metadata": {
    "kernelspec": {
      "display_name": "Python 3",
      "language": "python",
      "name": "python3"
    },
    "language_info": {
      "codemirror_mode": {
        "name": "ipython",
        "version": 3
      },
      "file_extension": ".py",
      "mimetype": "text/x-python",
      "name": "python",
      "nbconvert_exporter": "python",
      "pygments_lexer": "ipython3",
      "version": "3.7.10"
    },
    "colab": {
      "provenance": [],
      "include_colab_link": true
    }
  },
  "nbformat": 4,
  "nbformat_minor": 5
}