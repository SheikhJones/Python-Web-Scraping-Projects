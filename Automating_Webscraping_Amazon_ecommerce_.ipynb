{
  "cells": [
    {
      "cell_type": "markdown",
      "metadata": {
        "id": "view-in-github",
        "colab_type": "text"
      },
      "source": [
        "<a href=\"https://colab.research.google.com/github/SheikhJones/Python-Web-Scraping-Projects/blob/main/Automating_Webscraping_Amazon_ecommerce_.ipynb\" target=\"_parent\"><img src=\"https://colab.research.google.com/assets/colab-badge.svg\" alt=\"Open In Colab\"/></a>"
      ]
    },
    {
      "cell_type": "code",
      "execution_count": null,
      "id": "9ba85b0f",
      "metadata": {
        "colab": {
          "base_uri": "https://localhost:8080/"
        },
        "id": "9ba85b0f",
        "outputId": "82983906-de3b-4dfc-e15d-413f4ee0ded5"
      },
      "outputs": [
        {
          "output_type": "stream",
          "name": "stdout",
          "text": [
            "Collecting autoscraper\n",
            "  Downloading autoscraper-1.1.14-py3-none-any.whl (10 kB)\n",
            "Requirement already satisfied: requests in /usr/local/lib/python3.10/dist-packages (from autoscraper) (2.31.0)\n",
            "Collecting bs4 (from autoscraper)\n",
            "  Downloading bs4-0.0.2-py2.py3-none-any.whl (1.2 kB)\n",
            "Requirement already satisfied: lxml in /usr/local/lib/python3.10/dist-packages (from autoscraper) (4.9.4)\n",
            "Requirement already satisfied: beautifulsoup4 in /usr/local/lib/python3.10/dist-packages (from bs4->autoscraper) (4.12.3)\n",
            "Requirement already satisfied: charset-normalizer<4,>=2 in /usr/local/lib/python3.10/dist-packages (from requests->autoscraper) (3.3.2)\n",
            "Requirement already satisfied: idna<4,>=2.5 in /usr/local/lib/python3.10/dist-packages (from requests->autoscraper) (3.6)\n",
            "Requirement already satisfied: urllib3<3,>=1.21.1 in /usr/local/lib/python3.10/dist-packages (from requests->autoscraper) (2.0.7)\n",
            "Requirement already satisfied: certifi>=2017.4.17 in /usr/local/lib/python3.10/dist-packages (from requests->autoscraper) (2024.2.2)\n",
            "Requirement already satisfied: soupsieve>1.2 in /usr/local/lib/python3.10/dist-packages (from beautifulsoup4->bs4->autoscraper) (2.5)\n",
            "Installing collected packages: bs4, autoscraper\n",
            "Successfully installed autoscraper-1.1.14 bs4-0.0.2\n"
          ]
        }
      ],
      "source": [
        "!pip install autoscraper"
      ]
    },
    {
      "cell_type": "code",
      "execution_count": null,
      "id": "c32a7625",
      "metadata": {
        "id": "c32a7625"
      },
      "outputs": [],
      "source": [
        "from autoscraper import AutoScraper"
      ]
    },
    {
      "cell_type": "code",
      "execution_count": null,
      "id": "f1492bd8",
      "metadata": {
        "id": "f1492bd8"
      },
      "outputs": [],
      "source": [
        "amazon_url=\"https://www.amazon.in/s?k=iphones\"\n",
        "\n",
        "wanted_list=[\"₹72,200\",\"Apple iPhone 15 (128 GB) - Black\"]"
      ]
    },
    {
      "cell_type": "code",
      "execution_count": null,
      "id": "11cc44b8",
      "metadata": {
        "colab": {
          "base_uri": "https://localhost:8080/"
        },
        "id": "11cc44b8",
        "outputId": "d383bf7a-eaee-4805-f91f-9245624e9466"
      },
      "outputs": [
        {
          "output_type": "stream",
          "name": "stdout",
          "text": [
            "['₹72,200', '₹52,090', '₹72,000', '₹62,500', '₹1,37,990', '₹81,600', '₹61,490', '₹61,900', 'Apple iPhone 15 (128 GB) - Blue', 'Apple iPhone 13 (128GB) - Green', 'Apple iPhone 14 Plus (128 GB) - Starlight', 'Apple iPhone 14 (128 GB) - Blue', 'Apple iPhone 15 Pro (256 GB) - Natural Titanium', 'Apple iPhone 15 Plus (128 GB) - Black', 'Apple iPhone 15 (128 GB) - Green', 'Apple iPhone 14 (128 GB) - Midnight', 'Apple iPhone 15 (256 GB) - Green', 'Apple iPhone 15 (128 GB) - Black', 'Apple iPhone 13 (256GB) - Midnight', 'Apple iPhone 15 Pro (256 GB) - Blue Titanium', 'Apple iPhone 13 (256GB) - Starlight', 'Apple iPhone 13 (256GB) - (Product) RED', 'Apple iPhone 13 (256GB) - Blue', 'Apple iPhone 14 (128 GB) - Starlight']\n"
          ]
        }
      ],
      "source": [
        "scraper=AutoScraper()\n",
        "result=scraper.build(amazon_url,wanted_list)\n",
        "print(result)"
      ]
    },
    {
      "cell_type": "code",
      "execution_count": null,
      "id": "32cef483",
      "metadata": {
        "colab": {
          "base_uri": "https://localhost:8080/"
        },
        "id": "32cef483",
        "outputId": "c331d72f-ff94-49f5-aec4-cf0ed2117c31"
      },
      "outputs": [
        {
          "output_type": "execute_result",
          "data": {
            "text/plain": [
              "{'rule_5pom': ['₹72,200',\n",
              "  '₹52,090',\n",
              "  '₹72,000',\n",
              "  '₹62,500',\n",
              "  '₹1,37,990',\n",
              "  '₹81,600',\n",
              "  '₹72,200',\n",
              "  '₹9,999',\n",
              "  '₹62,500',\n",
              "  '₹81,600',\n",
              "  '₹72,200',\n",
              "  '₹61,490',\n",
              "  '₹1,37,990',\n",
              "  '₹61,900',\n",
              "  '₹61,490',\n",
              "  '₹61,490'],\n",
              " 'rule_mabi': ['₹72,200',\n",
              "  '₹52,090',\n",
              "  '₹72,000',\n",
              "  '₹62,500',\n",
              "  '₹1,37,990',\n",
              "  '₹81,600',\n",
              "  '₹72,200',\n",
              "  '₹9,999',\n",
              "  '₹62,500',\n",
              "  '₹81,600',\n",
              "  '₹72,200',\n",
              "  '₹61,490',\n",
              "  '₹1,37,990',\n",
              "  '₹61,900',\n",
              "  '₹61,490',\n",
              "  '₹61,490'],\n",
              " 'rule_h1le': ['₹72,200',\n",
              "  '₹52,090',\n",
              "  '₹72,000',\n",
              "  '₹62,500',\n",
              "  '₹1,37,990',\n",
              "  '₹81,600',\n",
              "  '₹72,200',\n",
              "  '₹9,999',\n",
              "  '₹62,500',\n",
              "  '₹81,600',\n",
              "  '₹72,200',\n",
              "  '₹61,490',\n",
              "  '₹1,37,990',\n",
              "  '₹61,900',\n",
              "  '₹61,490',\n",
              "  '₹61,490'],\n",
              " 'rule_twkd': ['₹72,200',\n",
              "  '₹52,090',\n",
              "  '₹72,000',\n",
              "  '₹62,500',\n",
              "  '₹1,37,990',\n",
              "  '₹81,600',\n",
              "  '₹72,200',\n",
              "  '₹9,999',\n",
              "  '₹62,500',\n",
              "  '₹81,600',\n",
              "  '₹72,200',\n",
              "  '₹61,490',\n",
              "  '₹1,37,990',\n",
              "  '₹61,900',\n",
              "  '₹61,490',\n",
              "  '₹61,490'],\n",
              " 'rule_my9r': ['₹72,200',\n",
              "  '₹52,090',\n",
              "  '₹72,000',\n",
              "  '₹62,500',\n",
              "  '₹1,37,990',\n",
              "  '₹81,600',\n",
              "  '₹72,200',\n",
              "  '₹9,999',\n",
              "  '₹62,500',\n",
              "  '₹81,600',\n",
              "  '₹72,200',\n",
              "  '₹61,490',\n",
              "  '₹1,37,990',\n",
              "  '₹61,900',\n",
              "  '₹61,490',\n",
              "  '₹61,490'],\n",
              " 'rule_x5kt': ['₹72,200',\n",
              "  '₹52,090',\n",
              "  '₹72,000',\n",
              "  '₹62,500',\n",
              "  '₹1,37,990',\n",
              "  '₹81,600',\n",
              "  '₹72,200',\n",
              "  '₹9,999',\n",
              "  '₹62,500',\n",
              "  '₹81,600',\n",
              "  '₹72,200',\n",
              "  '₹61,490',\n",
              "  '₹1,37,990',\n",
              "  '₹61,900',\n",
              "  '₹61,490',\n",
              "  '₹61,490'],\n",
              " 'rule_bzwu': ['Apple iPhone 15 (128 GB) - Blue',\n",
              "  'Apple iPhone 13 (128GB) - Green',\n",
              "  'Apple iPhone 14 Plus (128 GB) - Starlight',\n",
              "  'Apple iPhone 14 (128 GB) - Blue',\n",
              "  'Apple iPhone 15 Pro (256 GB) - Natural Titanium',\n",
              "  'Apple iPhone 15 Plus (128 GB) - Black',\n",
              "  'Apple iPhone 15 (128 GB) - Green',\n",
              "  'Original Smartphone Compatible with Apple iPhone 5s Gold (16GB Storage with 1-Year Warranty)',\n",
              "  'Apple iPhone 14 (128 GB) - Midnight',\n",
              "  'Apple iPhone 15 (256 GB) - Green',\n",
              "  'Apple iPhone 15 (128 GB) - Black',\n",
              "  'Apple iPhone 13 (256GB) - Midnight',\n",
              "  'Apple iPhone 15 Pro (256 GB) - Blue Titanium',\n",
              "  'Apple iPhone 13 (256GB) - Starlight',\n",
              "  'Apple iPhone 13 (256GB) - (Product) RED',\n",
              "  'Apple iPhone 13 (256GB) - Blue'],\n",
              " 'rule_p7nd': ['Apple iPhone 15 (128 GB) - Blue',\n",
              "  'Apple iPhone 13 (128GB) - Green',\n",
              "  'Apple iPhone 14 Plus (128 GB) - Starlight',\n",
              "  'Apple iPhone 14 (128 GB) - Blue',\n",
              "  'Apple iPhone 15 Pro (256 GB) - Natural Titanium',\n",
              "  'Apple iPhone 15 Plus (128 GB) - Black',\n",
              "  'Apple iPhone 15 (128 GB) - Green',\n",
              "  'Original Smartphone Compatible with Apple iPhone 5s Gold (16GB Storage with 1-Year Warranty)',\n",
              "  'Apple iPhone 14 (128 GB) - Midnight',\n",
              "  'Apple iPhone 15 (256 GB) - Green',\n",
              "  'Apple iPhone 15 (128 GB) - Black',\n",
              "  'Apple iPhone 13 (256GB) - Midnight',\n",
              "  'Apple iPhone 15 Pro (256 GB) - Blue Titanium',\n",
              "  'Apple iPhone 13 (256GB) - Starlight',\n",
              "  'Apple iPhone 13 (256GB) - (Product) RED',\n",
              "  'Apple iPhone 13 (256GB) - Blue']}"
            ]
          },
          "metadata": {},
          "execution_count": 7
        }
      ],
      "source": [
        "scraper.get_result_similar(amazon_url,grouped=True)"
      ]
    },
    {
      "cell_type": "code",
      "execution_count": null,
      "id": "3b1d93c4",
      "metadata": {
        "id": "3b1d93c4"
      },
      "outputs": [],
      "source": [
        "scraper.set_rule_aliases({'rule_bzwu':'Title','rule_5pom':'Price'})\n",
        "scraper.keep_rules(['rule_bzwu','rule_5pom'])\n",
        "scraper.save('amazon-search')"
      ]
    },
    {
      "cell_type": "code",
      "execution_count": null,
      "id": "e9f46ecb",
      "metadata": {
        "id": "e9f46ecb"
      },
      "outputs": [],
      "source": [
        "results=scraper.get_result_similar('https://www.amazon.in/s?k=mi+phones+under+15000',group_by_alias=True)"
      ]
    },
    {
      "cell_type": "code",
      "execution_count": null,
      "id": "c6ddeb9a",
      "metadata": {
        "colab": {
          "base_uri": "https://localhost:8080/"
        },
        "id": "c6ddeb9a",
        "outputId": "329a76f1-3961-4c7b-a97d-f11b4a70aeca"
      },
      "outputs": [
        {
          "output_type": "execute_result",
          "data": {
            "text/plain": [
              "['₹12,999',\n",
              " '₹12,999',\n",
              " '₹11,999',\n",
              " '₹14,999',\n",
              " '₹14,999',\n",
              " '₹10,999',\n",
              " '₹8,799',\n",
              " '₹9,999',\n",
              " '₹14,499',\n",
              " '₹14,999',\n",
              " '₹10,999',\n",
              " '₹7,799',\n",
              " '₹7,799',\n",
              " '₹11,999',\n",
              " '₹7,799',\n",
              " '₹12,499']"
            ]
          },
          "metadata": {},
          "execution_count": 11
        }
      ],
      "source": [
        "results['Price']"
      ]
    },
    {
      "cell_type": "code",
      "execution_count": null,
      "id": "3ebf5d72",
      "metadata": {
        "colab": {
          "base_uri": "https://localhost:8080/"
        },
        "id": "3ebf5d72",
        "outputId": "30f9cfad-a6ac-4a1c-f3a9-a244fcfb3ad4"
      },
      "outputs": [
        {
          "output_type": "execute_result",
          "data": {
            "text/plain": [
              "['Amazon\\'s Choicefor \"mi phones under 15000\"',\n",
              " 'Redmi 12 5G Jade Black 6GB RAM 128GB ROM',\n",
              " 'Redmi 12 5G Moonstone Silver 6GB RAM 128GB ROM',\n",
              " 'Redmi 12 5G Moonstone Silver 4GB RAM 128GB ROM',\n",
              " 'Redmi 12 5G Moonstone Silver 8GB RAM 256GB ROM',\n",
              " 'Redmi 12 5G Pastel Blue 8GB RAM 256GB ROM',\n",
              " 'Redmi 13C 5G (Starlight Black, 4GB RAM, 128GB Storage) | MediaTek Dimensity 6100+ 5G | 90Hz Display',\n",
              " 'Redmi 13C (Starfrost White, 6GB RAM, 128GB Storage) | Powered by 4G MediaTek Helio G85 | 90Hz Display | 50MP AI Triple Camera',\n",
              " 'Redmi 12 (Jade Black,6GB RAM, 128GB Storage)',\n",
              " 'Redmi 13C 5G (Starlight Black, 8GB RAM, 256GB Storage) | MediaTek Dimensity 6100+ 5G | 90Hz Display',\n",
              " 'Redmi 12 5G Jade Black 8GB RAM 256GB ROM',\n",
              " 'Redmi 13C 5G (Startrail Green, 4GB RAM, 128GB Storage) | MediaTek Dimensity 6100+ 5G | 90Hz Display',\n",
              " 'Redmi 13C (Starfrost White, 4GB RAM, 128GB Storage) | Powered by 4G MediaTek Helio G85 | 90Hz Display | 50MP AI Triple Camera',\n",
              " 'Redmi 13C (Starshine Green, 4GB RAM, 128GB Storage) | Powered by 4G MediaTek Helio G85 | 90Hz Display | 50MP AI Triple Camera',\n",
              " 'Redmi 12 5G Pastel Blue 4GB RAM 128GB ROM',\n",
              " 'Redmi 13C (Stardust Black, 4GB RAM, 128GB Storage) | Powered by 4G Mediatek Helio G85 | 90Hz Display | 50MP AI Triple Camera',\n",
              " 'Redmi 13C 5G (Starlight Black, 6GB RAM, 128GB Storage) | MediaTek Dimensity 6100+ 5G | 90Hz Display']"
            ]
          },
          "metadata": {},
          "execution_count": 12
        }
      ],
      "source": [
        "results['Title']"
      ]
    },
    {
      "cell_type": "code",
      "source": [
        "import pandas as pd"
      ],
      "metadata": {
        "id": "1P2xJaZ1ndCZ"
      },
      "id": "1P2xJaZ1ndCZ",
      "execution_count": null,
      "outputs": []
    },
    {
      "cell_type": "code",
      "execution_count": null,
      "id": "ca60befe",
      "metadata": {
        "id": "ca60befe"
      },
      "outputs": [],
      "source": [
        "# same code .. just to extract in excel"
      ]
    },
    {
      "cell_type": "code",
      "source": [
        "!pip install autoscraper\n",
        "import pandas as pd\n",
        "from autoscraper import AutoScraper\n",
        "\n",
        "amazon_url = \"https://www.amazon.in/s?k=iphones\"\n",
        "wanted_list = [\"₹72,200\", \"Apple iPhone 15 (128 GB) - Black\"]\n",
        "\n",
        "scraper = AutoScraper()\n",
        "result = scraper.build(amazon_url, wanted_list)\n",
        "\n",
        "scraper.get_result_similar(amazon_url, grouped=True)\n",
        "\n",
        "\n"
      ],
      "metadata": {
        "colab": {
          "base_uri": "https://localhost:8080/"
        },
        "id": "f6KLTMToofEq",
        "outputId": "200cd0b8-c2b0-41e6-e9bd-d21bc1c2629a"
      },
      "id": "f6KLTMToofEq",
      "execution_count": null,
      "outputs": [
        {
          "output_type": "stream",
          "name": "stdout",
          "text": [
            "Requirement already satisfied: autoscraper in /usr/local/lib/python3.10/dist-packages (1.1.14)\n",
            "Requirement already satisfied: requests in /usr/local/lib/python3.10/dist-packages (from autoscraper) (2.31.0)\n",
            "Requirement already satisfied: bs4 in /usr/local/lib/python3.10/dist-packages (from autoscraper) (0.0.2)\n",
            "Requirement already satisfied: lxml in /usr/local/lib/python3.10/dist-packages (from autoscraper) (4.9.4)\n",
            "Requirement already satisfied: beautifulsoup4 in /usr/local/lib/python3.10/dist-packages (from bs4->autoscraper) (4.12.3)\n",
            "Requirement already satisfied: charset-normalizer<4,>=2 in /usr/local/lib/python3.10/dist-packages (from requests->autoscraper) (3.3.2)\n",
            "Requirement already satisfied: idna<4,>=2.5 in /usr/local/lib/python3.10/dist-packages (from requests->autoscraper) (3.6)\n",
            "Requirement already satisfied: urllib3<3,>=1.21.1 in /usr/local/lib/python3.10/dist-packages (from requests->autoscraper) (2.0.7)\n",
            "Requirement already satisfied: certifi>=2017.4.17 in /usr/local/lib/python3.10/dist-packages (from requests->autoscraper) (2024.2.2)\n",
            "Requirement already satisfied: soupsieve>1.2 in /usr/local/lib/python3.10/dist-packages (from beautifulsoup4->bs4->autoscraper) (2.5)\n"
          ]
        },
        {
          "output_type": "execute_result",
          "data": {
            "text/plain": [
              "{'rule_9dl8': ['₹72,200',\n",
              "  '₹52,090',\n",
              "  '₹1,37,990',\n",
              "  '₹52,090',\n",
              "  '₹52,090',\n",
              "  '₹62,500',\n",
              "  '₹72,000',\n",
              "  '₹72,200',\n",
              "  '₹81,600',\n",
              "  '₹62,500',\n",
              "  '₹72,200',\n",
              "  '₹61,490',\n",
              "  '₹81,600',\n",
              "  '₹1,48,900',\n",
              "  '₹1,00,200',\n",
              "  '₹61,900'],\n",
              " 'rule_cy19': ['₹72,200',\n",
              "  '₹52,090',\n",
              "  '₹1,37,990',\n",
              "  '₹52,090',\n",
              "  '₹52,090',\n",
              "  '₹62,500',\n",
              "  '₹72,000',\n",
              "  '₹72,200',\n",
              "  '₹81,600',\n",
              "  '₹62,500',\n",
              "  '₹72,200',\n",
              "  '₹61,490',\n",
              "  '₹81,600',\n",
              "  '₹1,48,900',\n",
              "  '₹1,00,200',\n",
              "  '₹61,900'],\n",
              " 'rule_dbq8': ['₹72,200',\n",
              "  '₹52,090',\n",
              "  '₹1,37,990',\n",
              "  '₹52,090',\n",
              "  '₹52,090',\n",
              "  '₹62,500',\n",
              "  '₹72,000',\n",
              "  '₹72,200',\n",
              "  '₹81,600',\n",
              "  '₹62,500',\n",
              "  '₹72,200',\n",
              "  '₹61,490',\n",
              "  '₹81,600',\n",
              "  '₹1,48,900',\n",
              "  '₹1,00,200',\n",
              "  '₹61,900'],\n",
              " 'rule_5crm': ['₹72,200',\n",
              "  '₹52,090',\n",
              "  '₹1,37,990',\n",
              "  '₹52,090',\n",
              "  '₹52,090',\n",
              "  '₹62,500',\n",
              "  '₹72,000',\n",
              "  '₹72,200',\n",
              "  '₹81,600',\n",
              "  '₹62,500',\n",
              "  '₹72,200',\n",
              "  '₹61,490',\n",
              "  '₹81,600',\n",
              "  '₹1,48,900',\n",
              "  '₹1,00,200',\n",
              "  '₹61,900'],\n",
              " 'rule_cyij': ['₹72,200',\n",
              "  '₹52,090',\n",
              "  '₹1,37,990',\n",
              "  '₹52,090',\n",
              "  '₹52,090',\n",
              "  '₹62,500',\n",
              "  '₹72,000',\n",
              "  '₹72,200',\n",
              "  '₹81,600',\n",
              "  '₹62,500',\n",
              "  '₹72,200',\n",
              "  '₹61,490',\n",
              "  '₹81,600',\n",
              "  '₹1,48,900',\n",
              "  '₹1,00,200',\n",
              "  '₹61,900'],\n",
              " 'rule_s5gk': ['₹72,200',\n",
              "  '₹52,090',\n",
              "  '₹1,37,990',\n",
              "  '₹52,090',\n",
              "  '₹52,090',\n",
              "  '₹62,500',\n",
              "  '₹72,000',\n",
              "  '₹72,200',\n",
              "  '₹81,600',\n",
              "  '₹62,500',\n",
              "  '₹72,200',\n",
              "  '₹61,490',\n",
              "  '₹81,600',\n",
              "  '₹1,48,900',\n",
              "  '₹1,00,200',\n",
              "  '₹61,900'],\n",
              " 'rule_ty1m': ['Apple iPhone 15 (128 GB) - Blue',\n",
              "  'Apple iPhone 13 (128GB) - Green',\n",
              "  'Apple iPhone 15 Pro (256 GB) - Natural Titanium',\n",
              "  'Apple iPhone 13 (128GB) - Pink',\n",
              "  'Apple iPhone 13 (128GB) - Midnight',\n",
              "  'Apple iPhone 14 (128 GB) - Blue',\n",
              "  'Apple iPhone 14 Plus (128 GB) - Starlight',\n",
              "  'Apple iPhone 15 (128 GB) - Black',\n",
              "  'Apple iPhone 15 Plus (128 GB) - Black',\n",
              "  'Apple iPhone 14 (128 GB) - Midnight',\n",
              "  'Apple iPhone 15 (128 GB) - Green',\n",
              "  'Apple iPhone 13 (256GB) - Midnight',\n",
              "  'Apple iPhone 15 (256 GB) - Green',\n",
              "  'Apple iPhone 15 Pro Max (256 GB) - Black Titanium',\n",
              "  'Apple iPhone 14 Plus (512 GB) - (Product) RED',\n",
              "  'Apple iPhone 13 (256GB) - Starlight'],\n",
              " 'rule_gubm': ['Apple iPhone 15 (128 GB) - Blue',\n",
              "  'Apple iPhone 13 (128GB) - Green',\n",
              "  'Apple iPhone 15 Pro (256 GB) - Natural Titanium',\n",
              "  'Apple iPhone 13 (128GB) - Pink',\n",
              "  'Apple iPhone 13 (128GB) - Midnight',\n",
              "  'Apple iPhone 14 (128 GB) - Blue',\n",
              "  'Apple iPhone 14 Plus (128 GB) - Starlight',\n",
              "  'Apple iPhone 15 (128 GB) - Black',\n",
              "  'Apple iPhone 15 Plus (128 GB) - Black',\n",
              "  'Apple iPhone 14 (128 GB) - Midnight',\n",
              "  'Apple iPhone 15 (128 GB) - Green',\n",
              "  'Apple iPhone 13 (256GB) - Midnight',\n",
              "  'Apple iPhone 15 (256 GB) - Green',\n",
              "  'Apple iPhone 15 Pro Max (256 GB) - Black Titanium',\n",
              "  'Apple iPhone 14 Plus (512 GB) - (Product) RED',\n",
              "  'Apple iPhone 13 (256GB) - Starlight']}"
            ]
          },
          "metadata": {},
          "execution_count": 19
        }
      ]
    },
    {
      "cell_type": "code",
      "source": [
        "scraper.set_rule_aliases({'rule_ty1m': 'Title', 'rule_9dl8': 'Price'})\n",
        "scraper.keep_rules(['rule_ty1m', 'rule_9dl8'])\n",
        "scraper.save('amazon-search')\n",
        "\n"
      ],
      "metadata": {
        "id": "oMRTHClqoq69"
      },
      "id": "oMRTHClqoq69",
      "execution_count": null,
      "outputs": []
    },
    {
      "cell_type": "code",
      "source": [
        "# Get results\n",
        "prices = scraper.get_result_similar(amazon_url, group_by_alias=True)['Price']\n",
        "titles = scraper.get_result_similar(amazon_url, group_by_alias=True)['Title']\n"
      ],
      "metadata": {
        "id": "tp86wuAAo1XI"
      },
      "id": "tp86wuAAo1XI",
      "execution_count": null,
      "outputs": []
    },
    {
      "cell_type": "code",
      "source": [
        "# Ensure lengths are consistent\n",
        "min_length = min(len(prices), len(titles))\n",
        "prices = prices[:min_length]\n",
        "titles = titles[:min_length]"
      ],
      "metadata": {
        "id": "ertdSNXjo19Q"
      },
      "id": "ertdSNXjo19Q",
      "execution_count": null,
      "outputs": []
    },
    {
      "cell_type": "code",
      "source": [
        "# Create DataFrame\n",
        "data = pd.DataFrame({'Price': prices, 'Title': titles})"
      ],
      "metadata": {
        "id": "MHe7fcgZo2Ai"
      },
      "id": "MHe7fcgZo2Ai",
      "execution_count": null,
      "outputs": []
    },
    {
      "cell_type": "code",
      "source": [
        "# Save DataFrame to Excel within Colab\n",
        "data.to_excel('amazon_iphones.xlsx', index=False)"
      ],
      "metadata": {
        "id": "mvRY4h9io2C-"
      },
      "id": "mvRY4h9io2C-",
      "execution_count": null,
      "outputs": []
    },
    {
      "cell_type": "code",
      "source": [],
      "metadata": {
        "id": "p5di8eBJo2Fi"
      },
      "id": "p5di8eBJo2Fi",
      "execution_count": null,
      "outputs": []
    },
    {
      "cell_type": "code",
      "source": [],
      "metadata": {
        "id": "f5LOT7dPo2JC"
      },
      "id": "f5LOT7dPo2JC",
      "execution_count": null,
      "outputs": []
    }
  ],
  "metadata": {
    "kernelspec": {
      "display_name": "Python 3",
      "language": "python",
      "name": "python3"
    },
    "language_info": {
      "codemirror_mode": {
        "name": "ipython",
        "version": 3
      },
      "file_extension": ".py",
      "mimetype": "text/x-python",
      "name": "python",
      "nbconvert_exporter": "python",
      "pygments_lexer": "ipython3",
      "version": "3.7.10"
    },
    "colab": {
      "provenance": [],
      "toc_visible": true,
      "include_colab_link": true
    }
  },
  "nbformat": 4,
  "nbformat_minor": 5
}